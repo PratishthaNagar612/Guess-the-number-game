{
 "cells": [
  {
   "cell_type": "code",
   "execution_count": 1,
   "id": "de319d3e",
   "metadata": {},
   "outputs": [
    {
     "name": "stdout",
     "output_type": "stream",
     "text": [
      "Guess the number between 1 and 100: 56\n",
      "Too high!\n",
      "Guess again: 87\n",
      "Too high!\n",
      "Guess again: 89\n",
      "Too high!\n",
      "Guess again: 09\n",
      "Congratulations! You guessed the number correctly!\n"
     ]
    }
   ],
   "source": [
    "import random\n",
    "\n",
    "number = random.randint(1, 100)\n",
    "guess = int(input(\"Guess the number between 1 and 100: \"))\n",
    "\n",
    "while guess != number:\n",
    "    if guess < number:\n",
    "        print(\"Too low!\")\n",
    "    else:\n",
    "        print(\"Too high!\")\n",
    "    guess = int(input(\"Guess again: \"))\n",
    "\n",
    "print(\"Congratulations! You guessed the number correctly!\")"
   ]
  },
  {
   "cell_type": "code",
   "execution_count": null,
   "id": "6001f6fa",
   "metadata": {},
   "outputs": [],
   "source": []
  }
 ],
 "metadata": {
  "kernelspec": {
   "display_name": "Python 3 (ipykernel)",
   "language": "python",
   "name": "python3"
  },
  "language_info": {
   "codemirror_mode": {
    "name": "ipython",
    "version": 3
   },
   "file_extension": ".py",
   "mimetype": "text/x-python",
   "name": "python",
   "nbconvert_exporter": "python",
   "pygments_lexer": "ipython3",
   "version": "3.9.13"
  }
 },
 "nbformat": 4,
 "nbformat_minor": 5
}
